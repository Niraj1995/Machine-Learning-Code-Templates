{
 "cells": [
  {
   "cell_type": "code",
   "execution_count": 4,
   "metadata": {},
   "outputs": [],
   "source": [
    "import seaborn as sns"
   ]
  },
  {
   "cell_type": "code",
   "execution_count": 6,
   "metadata": {},
   "outputs": [],
   "source": [
    "df = sns.load_dataset(\"planets\")"
   ]
  },
  {
   "cell_type": "code",
   "execution_count": 9,
   "metadata": {},
   "outputs": [],
   "source": [
    "import dtale"
   ]
  },
  {
   "cell_type": "code",
   "execution_count": 10,
   "metadata": {},
   "outputs": [
    {
     "data": {
      "text/html": [
       "\n",
       "        <iframe\n",
       "            width=\"100%\"\n",
       "            height=\"475\"\n",
       "            src=\"http://DESKTOP-0VIHG1D:40000/dtale/iframe/1\"\n",
       "            frameborder=\"0\"\n",
       "            allowfullscreen\n",
       "        ></iframe>\n",
       "        "
      ],
      "text/plain": [
       "<IPython.lib.display.IFrame at 0x1a0255fce80>"
      ]
     },
     "metadata": {},
     "output_type": "display_data"
    },
    {
     "data": {
      "text/plain": []
     },
     "execution_count": 10,
     "metadata": {},
     "output_type": "execute_result"
    },
    {
     "name": "stdout",
     "output_type": "stream",
     "text": [
      "{'metas': '<meta http-equiv=\"X-UA-Compatible\" content=\"IE=edge\">\\n      <meta charset=\"UTF-8\">', 'title': 'Dash', 'css': '<link rel=\"stylesheet\" href=\"/css/main.css\">\\n<link rel=\"stylesheet\" href=\"/css/dash.css\">\\n<link rel=\"stylesheet\" href=\"/css/github_fork.css\">', 'config': '<script id=\"_dash-config\" type=\"application/json\">{\"url_base_pathname\": null, \"requests_pathname_prefix\": \"/charts/\", \"ui\": false, \"props_check\": false, \"show_undo_redo\": false, \"suppress_callback_exceptions\": true, \"update_title\": \"Updating...\"}</script>', 'scripts': '<script src=\"/charts/_dash-component-suites/dash_renderer/polyfill@7.v1_8_2m1602354465.8.7.min.js\"></script>\\n<script src=\"/charts/_dash-component-suites/dash_renderer/react@16.v1_8_2m1602354465.13.0.min.js\"></script>\\n<script src=\"/charts/_dash-component-suites/dash_renderer/react-dom@16.v1_8_2m1602354465.13.0.min.js\"></script>\\n<script src=\"/charts/_dash-component-suites/dash_renderer/prop-types@15.v1_8_2m1602354465.7.2.min.js\"></script>\\n<script src=\"/dash/components_bundle.js\"></script>\\n<script src=\"/dash/custom_bundle.js\"></script>\\n<script src=\"/dist/base_styles_bundle.js\"></script>\\n<script src=\"/charts/_dash-component-suites/dash_bootstrap_components/_components/dash_bootstrap_components.v0_10_7m1602354426.min.js\"></script>\\n<script src=\"/charts/_dash-component-suites/dash_daq/async-colorpicker.v0_5_0m1602354456.js\"></script>\\n<script src=\"/charts/_dash-component-suites/dash_daq/async-slider.v0_5_0m1602354456.js\"></script>\\n<script src=\"/charts/_dash-component-suites/dash_daq/dash_daq.v0_5_0m1602354456.min.js\"></script>\\n<script src=\"/charts/_dash-component-suites/dash_colorscales/bundle.v0_0_4m1602354453.js\"></script>\\n<script src=\"/charts/_dash-component-suites/dash_html_components/dash_html_components.v1_1_1m1602354474.min.js\"></script>\\n<script src=\"/charts/_dash-component-suites/dash_core_components/async-datepicker.v1_12_1m1602354470.js\"></script>\\n<script src=\"/charts/_dash-component-suites/dash_core_components/async-dropdown.v1_12_1m1602354470.js\"></script>\\n<script src=\"/charts/_dash-component-suites/dash_core_components/async-graph.v1_12_1m1602354470.js\"></script>\\n<script src=\"/charts/_dash-component-suites/dash_core_components/async-highlight.v1_12_1m1602354470.js\"></script>\\n<script src=\"/charts/_dash-component-suites/dash_core_components/async-markdown.v1_12_1m1602354470.js\"></script>\\n<script src=\"/charts/_dash-component-suites/dash_core_components/async-slider.v1_12_1m1602354470.js\"></script>\\n<script src=\"/charts/_dash-component-suites/dash_core_components/async-upload.v1_12_1m1602354470.js\"></script>\\n<script src=\"/charts/_dash-component-suites/dash_core_components/dash_core_components.v1_12_1m1602354470.min.js\"></script>\\n<script src=\"/charts/_dash-component-suites/dash_core_components/dash_core_components-shared.v1_12_1m1602354470.js\"></script>\\n<script src=\"/charts/_dash-component-suites/dash_core_components/plotly.v1_12_1m1602354470.min.js\"></script>\\n<script src=\"/charts/_dash-component-suites/dash_renderer/dash_renderer.v1_8_2m1602354465.min.js\"></script>', 'app_entry': '\\n<div id=\"react-entry-point\">\\n    <div class=\"_dash-loading\">\\n        Loading...\\n    </div>\\n</div>\\n', 'favicon': '<link rel=\"icon\" type=\"image/x-icon\" href=\"/charts/_favicon.ico?v=1.16.3\">', 'renderer': '<script id=\"_dash-renderer\" type=\"application/javascript\">var renderer = new DashRenderer();</script>'}\n",
      "{'metas': '<meta http-equiv=\"X-UA-Compatible\" content=\"IE=edge\">\\n      <meta charset=\"UTF-8\">', 'title': 'Dash', 'css': '<link rel=\"stylesheet\" href=\"/css/main.css\">\\n<link rel=\"stylesheet\" href=\"/css/dash.css\">\\n<link rel=\"stylesheet\" href=\"/css/github_fork.css\">', 'config': '<script id=\"_dash-config\" type=\"application/json\">{\"url_base_pathname\": null, \"requests_pathname_prefix\": \"/charts/\", \"ui\": false, \"props_check\": false, \"show_undo_redo\": false, \"suppress_callback_exceptions\": false, \"update_title\": \"Updating...\"}</script>', 'scripts': '<script src=\"/charts/_dash-component-suites/dash_renderer/polyfill@7.v1_8_2m1602354465.8.7.min.js\"></script>\\n<script src=\"/charts/_dash-component-suites/dash_renderer/react@16.v1_8_2m1602354465.13.0.min.js\"></script>\\n<script src=\"/charts/_dash-component-suites/dash_renderer/react-dom@16.v1_8_2m1602354465.13.0.min.js\"></script>\\n<script src=\"/charts/_dash-component-suites/dash_renderer/prop-types@15.v1_8_2m1602354465.7.2.min.js\"></script>\\n<script src=\"/dash/components_bundle.js\"></script>\\n<script src=\"/dash/custom_bundle.js\"></script>\\n<script src=\"/dist/base_styles_bundle.js\"></script>\\n<script src=\"/charts/_dash-component-suites/dash_bootstrap_components/_components/dash_bootstrap_components.v0_10_7m1602354426.min.js\"></script>\\n<script src=\"/charts/_dash-component-suites/dash_daq/async-colorpicker.v0_5_0m1602354456.js\"></script>\\n<script src=\"/charts/_dash-component-suites/dash_daq/async-slider.v0_5_0m1602354456.js\"></script>\\n<script src=\"/charts/_dash-component-suites/dash_daq/dash_daq.v0_5_0m1602354456.min.js\"></script>\\n<script src=\"/charts/_dash-component-suites/dash_colorscales/bundle.v0_0_4m1602354453.js\"></script>\\n<script src=\"/charts/_dash-component-suites/dash_html_components/dash_html_components.v1_1_1m1602354474.min.js\"></script>\\n<script src=\"/charts/_dash-component-suites/dash_core_components/async-datepicker.v1_12_1m1602354470.js\"></script>\\n<script src=\"/charts/_dash-component-suites/dash_core_components/async-dropdown.v1_12_1m1602354470.js\"></script>\\n<script src=\"/charts/_dash-component-suites/dash_core_components/async-graph.v1_12_1m1602354470.js\"></script>\\n<script src=\"/charts/_dash-component-suites/dash_core_components/async-highlight.v1_12_1m1602354470.js\"></script>\\n<script src=\"/charts/_dash-component-suites/dash_core_components/async-markdown.v1_12_1m1602354470.js\"></script>\\n<script src=\"/charts/_dash-component-suites/dash_core_components/async-slider.v1_12_1m1602354470.js\"></script>\\n<script src=\"/charts/_dash-component-suites/dash_core_components/async-upload.v1_12_1m1602354470.js\"></script>\\n<script src=\"/charts/_dash-component-suites/dash_core_components/dash_core_components.v1_12_1m1602354470.min.js\"></script>\\n<script src=\"/charts/_dash-component-suites/dash_core_components/dash_core_components-shared.v1_12_1m1602354470.js\"></script>\\n<script src=\"/charts/_dash-component-suites/dash_core_components/plotly.v1_12_1m1602354470.min.js\"></script>\\n<script src=\"/charts/_dash-component-suites/dash_renderer/dash_renderer.v1_8_2m1602354465.min.js\"></script>', 'app_entry': '\\n<div id=\"react-entry-point\">\\n    <div class=\"_dash-loading\">\\n        Loading...\\n    </div>\\n</div>\\n', 'favicon': '<link rel=\"icon\" type=\"image/x-icon\" href=\"/charts/_favicon.ico?v=1.16.3\">', 'renderer': '<script id=\"_dash-renderer\" type=\"application/javascript\">var renderer = new DashRenderer();</script>'}\n"
     ]
    }
   ],
   "source": [
    "dtale.show(df)"
   ]
  }
 ],
 "metadata": {
  "kernelspec": {
   "display_name": "Python 3",
   "language": "python",
   "name": "python3"
  },
  "language_info": {
   "codemirror_mode": {
    "name": "ipython",
    "version": 3
   },
   "file_extension": ".py",
   "mimetype": "text/x-python",
   "name": "python",
   "nbconvert_exporter": "python",
   "pygments_lexer": "ipython3",
   "version": "3.7.3"
  }
 },
 "nbformat": 4,
 "nbformat_minor": 2
}
